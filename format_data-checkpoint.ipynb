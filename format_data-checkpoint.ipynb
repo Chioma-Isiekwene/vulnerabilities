{
 "cells": [
  {
   "cell_type": "code",
   "execution_count": 6,
   "id": "261df1d7",
   "metadata": {},
   "outputs": [],
   "source": [
    "import json\n",
    "import pandas as pd"
   ]
  },
  {
   "cell_type": "code",
   "execution_count": 66,
   "id": "aba63e7a",
   "metadata": {},
   "outputs": [],
   "source": [
    "\n",
    "def convert_json(filename):\n",
    "    filepath = './may/' + filename\n",
    "    with open(filepath, encoding='utf-8') as f:\n",
    "            json_object = json.load(f)\n",
    "    data = json_object['data']\n",
    "    data_df = pd.DataFrame(data)\n",
    "    public_metrics_df = pd.DataFrame(data_df.public_metrics.tolist())\n",
    "    data_df = pd.concat([data_df, public_metrics_df], axis='columns')\n",
    "    data_df = data_df.drop(['public_metrics'], axis='columns')\n",
    "\n",
    "    users = json_object['includes']['users']\n",
    "    users_df = pd.DataFrame(users)\n",
    "    users_df.rename(columns={'id':'author_id'}, inplace= True)\n",
    "    final_df = pd.merge(data_df, users_df, on= 'author_id', how ='left')\n",
    "    \n",
    "    return final_df"
   ]
  },
  {
   "cell_type": "code",
   "execution_count": 77,
   "id": "7d4a3c58",
   "metadata": {},
   "outputs": [
    {
     "name": "stdout",
     "output_type": "stream",
     "text": [
      "works for:  1\n",
      "works for:  2\n",
      "works for:  3\n",
      "works for:  4\n",
      "works for:  5\n",
      "works for:  6\n",
      "works for:  7\n",
      "works for:  8\n",
      "works for:  9\n",
      "works for:  10\n",
      "works for:  11\n",
      "works for:  12\n",
      "works for:  13\n",
      "works for:  14\n",
      "works for:  15\n",
      "works for:  16\n",
      "works for:  17\n",
      "works for:  18\n",
      "works for:  19\n",
      "works for:  20\n",
      "works for:  21\n",
      "works for:  22\n",
      "10010\n"
     ]
    }
   ],
   "source": [
    "num = 0\n",
    "for i in range(1, 23):\n",
    "    i = str(i)\n",
    "    arg = 'data '+str(i) + '.json'\n",
    "    try:\n",
    "        df = convert_json(arg)\n",
    "        num += len(us_df)\n",
    "        print('works for: ', i)\n",
    "    \n",
    "    except Exception as e:\n",
    "        print('Does not work for: ', i)\n",
    "print(num)"
   ]
  }
 ],
 "metadata": {
  "kernelspec": {
   "display_name": "Python 3 (ipykernel)",
   "language": "python",
   "name": "python3"
  },
  "language_info": {
   "codemirror_mode": {
    "name": "ipython",
    "version": 3
   },
   "file_extension": ".py",
   "mimetype": "text/x-python",
   "name": "python",
   "nbconvert_exporter": "python",
   "pygments_lexer": "ipython3",
   "version": "3.10.4"
  }
 },
 "nbformat": 4,
 "nbformat_minor": 5
}
