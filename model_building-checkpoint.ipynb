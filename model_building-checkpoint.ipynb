{
 "cells": [
  {
   "cell_type": "code",
   "execution_count": null,
   "id": "6b0543e7",
   "metadata": {},
   "outputs": [],
   "source": [
    "# import required libraries\n",
    "import pandas as pd\n",
    "import numpy as np\n",
    "import seaborn as sns\n",
    "import matplotlib.pyplot as plt\n",
    "from sklearn.feature_extraction.text import CountVectorizer, TfidfVectorizer\n",
    "from sklearn.model_selection import GridSearchCV\n",
    "from sklearn.naive_bayes import MultinomialNB, BernoulliNB, GaussianNB, ComplementNB\n",
    "from sklearn.ensemble import RandomForestClassifier\n",
    "from sklearn.pipeline import Pipeline\n",
    "from sklearn.preprocessing import LabelEncoder \n",
    "from sklearn.model_selection import train_test_split\n",
    "from sklearn.metrics import accuracy_score, confusion_matrix, classification_report\n",
    "import warnings\n",
    "warnings.filterwarnings(\"ignore\")"
   ]
  },
  {
   "cell_type": "code",
   "execution_count": 1,
   "id": "de2df6ec",
   "metadata": {
    "scrolled": true
   },
   "outputs": [
    {
     "ename": "NameError",
     "evalue": "name 'pd' is not defined",
     "output_type": "error",
     "traceback": [
      "\u001b[1;31m---------------------------------------------------------------------------\u001b[0m",
      "\u001b[1;31mNameError\u001b[0m                                 Traceback (most recent call last)",
      "\u001b[1;32m~\\AppData\\Local\\Temp/ipykernel_6376/1012647185.py\u001b[0m in \u001b[0;36m<module>\u001b[1;34m\u001b[0m\n\u001b[0;32m      1\u001b[0m \u001b[1;31m# load and show\u001b[0m\u001b[1;33m\u001b[0m\u001b[1;33m\u001b[0m\u001b[0m\n\u001b[1;32m----> 2\u001b[1;33m \u001b[0mdf\u001b[0m \u001b[1;33m=\u001b[0m \u001b[0mpd\u001b[0m\u001b[1;33m.\u001b[0m\u001b[0mread_csv\u001b[0m\u001b[1;33m(\u001b[0m\u001b[1;34m'data.csv'\u001b[0m\u001b[1;33m)\u001b[0m\u001b[1;33m\u001b[0m\u001b[1;33m\u001b[0m\u001b[0m\n\u001b[0m\u001b[0;32m      3\u001b[0m \u001b[0mdf\u001b[0m\u001b[1;33m.\u001b[0m\u001b[0mhead\u001b[0m\u001b[1;33m(\u001b[0m\u001b[1;33m)\u001b[0m\u001b[1;33m\u001b[0m\u001b[1;33m\u001b[0m\u001b[0m\n",
      "\u001b[1;31mNameError\u001b[0m: name 'pd' is not defined"
     ]
    }
   ],
   "source": [
    "# load and show\n",
    "df = pd.read_csv('data.csv')\n",
    "df.head()"
   ]
  },
  {
   "cell_type": "markdown",
   "id": "882e5920",
   "metadata": {},
   "source": [
    "## Text Vectorization"
   ]
  },
  {
   "cell_type": "code",
   "execution_count": 3,
   "id": "063b8349",
   "metadata": {},
   "outputs": [],
   "source": [
    "# get tweets as unicode type\n",
    "tweets = df['tweet'].values.astype('U')"
   ]
  },
  {
   "cell_type": "code",
   "execution_count": 4,
   "id": "f31ce348",
   "metadata": {},
   "outputs": [],
   "source": [
    "# vectorize text data (tweet)\n",
    "vectorizer = TfidfVectorizer(stop_words='english')\n",
    "features = vectorizer.fit_transform(tweets)"
   ]
  },
  {
   "cell_type": "markdown",
   "id": "fa2d1765",
   "metadata": {},
   "source": [
    "## Label Encoding"
   ]
  },
  {
   "cell_type": "code",
   "execution_count": 5,
   "id": "e26a2f85",
   "metadata": {},
   "outputs": [],
   "source": [
    "# get labels\n",
    "labels = df['label']"
   ]
  },
  {
   "cell_type": "code",
   "execution_count": 6,
   "id": "50a5f374",
   "metadata": {
    "scrolled": true
   },
   "outputs": [
    {
     "data": {
      "text/plain": [
       "array([0, 1, 1, 0, 1, 1, 0, 1, 1, 1])"
      ]
     },
     "execution_count": 6,
     "metadata": {},
     "output_type": "execute_result"
    }
   ],
   "source": [
    "# econde labels\n",
    "encoder = LabelEncoder()\n",
    "labels = encoder.fit_transform(labels)\n",
    "labels[:10]"
   ]
  },
  {
   "cell_type": "code",
   "execution_count": 7,
   "id": "778dfea8",
   "metadata": {},
   "outputs": [
    {
     "data": {
      "text/plain": [
       "['fake news', 'real news']"
      ]
     },
     "execution_count": 7,
     "metadata": {},
     "output_type": "execute_result"
    }
   ],
   "source": [
    "# get data classes\n",
    "classes = encoder.classes_.tolist()\n",
    "classes"
   ]
  },
  {
   "cell_type": "markdown",
   "id": "4181b32b",
   "metadata": {},
   "source": [
    "## Split Data into Train and Test Set"
   ]
  },
  {
   "cell_type": "code",
   "execution_count": 8,
   "id": "d01791b5",
   "metadata": {},
   "outputs": [],
   "source": [
    "# split data into train and test sets\n",
    "train_features, test_features, train_label, test_label = train_test_split(features, labels, test_size=0.1, random_state=42, stratify= labels)"
   ]
  },
  {
   "cell_type": "code",
   "execution_count": 9,
   "id": "201f6d4c",
   "metadata": {
    "scrolled": false
   },
   "outputs": [
    {
     "data": {
      "text/plain": [
       "((3056, 11317), (340, 11317), (3056,), (340,))"
      ]
     },
     "execution_count": 9,
     "metadata": {},
     "output_type": "execute_result"
    }
   ],
   "source": [
    "# show data shapes\n",
    "train_features.shape, test_features.shape, train_label.shape, test_label.shape"
   ]
  },
  {
   "cell_type": "markdown",
   "id": "eb41bd4b",
   "metadata": {},
   "source": [
    "## Modelling with GridsearchCV"
   ]
  },
  {
   "cell_type": "code",
   "execution_count": 10,
   "id": "0a146cea",
   "metadata": {},
   "outputs": [],
   "source": [
    "# function to find best model\n",
    "def find_best_model(X,y):\n",
    "\n",
    "    config = {\n",
    "             \n",
    "        'random forest classifier' : {\n",
    "         'model' :RandomForestClassifier(),\n",
    "         'params': {\n",
    "             'criterion' : ['gini', 'entropy'],\n",
    "             'n_estimators': [1,5,10],\n",
    "              'warm_start' : [True, False]    \n",
    "        }\n",
    "     },\n",
    "        'multinomial nb' : {\n",
    "         'model' : MultinomialNB(),\n",
    "         'params': {\n",
    "             'alpha': [0, 1],\n",
    "             'fit_prior': [True, False]    \n",
    "        }\n",
    "     },\n",
    "        'complement nb' : {\n",
    "         'model' : ComplementNB(),\n",
    "         'params': {\n",
    "             'alpha': [0, 1],\n",
    "             'fit_prior': [True, False],\n",
    "             'norm': [True, False]\n",
    "        }\n",
    "     },\n",
    "        'Bernoulli nb' : {\n",
    "         'model' : BernoulliNB(),\n",
    "         'params': {\n",
    "             'alpha': [0, 1],\n",
    "             'fit_prior': [True, False]    \n",
    "        }\n",
    "     },\n",
    "        'gaussian nb' : {\n",
    "         'model' : GaussianNB(),\n",
    "         'params': { \n",
    "             'var_smoothing': [1e-3, 1e-5, 1e-7, 1e-9],\n",
    "             \n",
    "        }\n",
    "     },\n",
    "\n",
    "        }\n",
    "\n",
    "    scores = []\n",
    "    best_estimators = {}\n",
    "    for model_name, model_params in config.items():\n",
    "        clf = GridSearchCV(model_params['model'], model_params['params'], cv = 5, return_train_score= False)\n",
    "        if model_name in ['complement nb', 'categorical nb', 'gaussian nb']:\n",
    "            clf.fit(X.toarray(),y)\n",
    "        else:\n",
    "            clf.fit(X,y)\n",
    "        scores.append({\n",
    "                'model' : model_name,\n",
    "                'best_score' : clf.best_score_,\n",
    "                'best_params' : clf.best_params_\n",
    "            })\n",
    "        best_estimators[model_name] = clf.best_estimator_\n",
    "    return best_estimators, pd.DataFrame(scores)"
   ]
  },
  {
   "cell_type": "code",
   "execution_count": 11,
   "id": "2fe8ccc7",
   "metadata": {
    "scrolled": false
   },
   "outputs": [],
   "source": [
    "# get best estimators and dataframe of model accuracies\n",
    "best_estimator, scores_df = find_best_model(train_features, train_label)"
   ]
  },
  {
   "cell_type": "code",
   "execution_count": 12,
   "id": "04363ac4",
   "metadata": {
    "scrolled": false
   },
   "outputs": [
    {
     "data": {
      "text/html": [
       "<div>\n",
       "<style scoped>\n",
       "    .dataframe tbody tr th:only-of-type {\n",
       "        vertical-align: middle;\n",
       "    }\n",
       "\n",
       "    .dataframe tbody tr th {\n",
       "        vertical-align: top;\n",
       "    }\n",
       "\n",
       "    .dataframe thead th {\n",
       "        text-align: right;\n",
       "    }\n",
       "</style>\n",
       "<table border=\"1\" class=\"dataframe\">\n",
       "  <thead>\n",
       "    <tr style=\"text-align: right;\">\n",
       "      <th></th>\n",
       "      <th>model</th>\n",
       "      <th>best_score</th>\n",
       "      <th>best_params</th>\n",
       "    </tr>\n",
       "  </thead>\n",
       "  <tbody>\n",
       "    <tr>\n",
       "      <th>0</th>\n",
       "      <td>random forest classifier</td>\n",
       "      <td>0.908376</td>\n",
       "      <td>{'criterion': 'entropy', 'n_estimators': 10, '...</td>\n",
       "    </tr>\n",
       "    <tr>\n",
       "      <th>1</th>\n",
       "      <td>multinomial nb</td>\n",
       "      <td>0.794827</td>\n",
       "      <td>{'alpha': 1, 'fit_prior': False}</td>\n",
       "    </tr>\n",
       "    <tr>\n",
       "      <th>2</th>\n",
       "      <td>complement nb</td>\n",
       "      <td>0.804970</td>\n",
       "      <td>{'alpha': 1, 'fit_prior': True, 'norm': True}</td>\n",
       "    </tr>\n",
       "    <tr>\n",
       "      <th>3</th>\n",
       "      <td>Bernoulli nb</td>\n",
       "      <td>0.790571</td>\n",
       "      <td>{'alpha': 1, 'fit_prior': False}</td>\n",
       "    </tr>\n",
       "    <tr>\n",
       "      <th>4</th>\n",
       "      <td>gaussian nb</td>\n",
       "      <td>0.658049</td>\n",
       "      <td>{'var_smoothing': 1e-05}</td>\n",
       "    </tr>\n",
       "  </tbody>\n",
       "</table>\n",
       "</div>"
      ],
      "text/plain": [
       "                      model  best_score  \\\n",
       "0  random forest classifier    0.908376   \n",
       "1            multinomial nb    0.794827   \n",
       "2             complement nb    0.804970   \n",
       "3              Bernoulli nb    0.790571   \n",
       "4               gaussian nb    0.658049   \n",
       "\n",
       "                                         best_params  \n",
       "0  {'criterion': 'entropy', 'n_estimators': 10, '...  \n",
       "1                   {'alpha': 1, 'fit_prior': False}  \n",
       "2      {'alpha': 1, 'fit_prior': True, 'norm': True}  \n",
       "3                   {'alpha': 1, 'fit_prior': False}  \n",
       "4                           {'var_smoothing': 1e-05}  "
      ]
     },
     "execution_count": 12,
     "metadata": {},
     "output_type": "execute_result"
    }
   ],
   "source": [
    "# show accuracies of estimators\n",
    "scores_df"
   ]
  },
  {
   "cell_type": "code",
   "execution_count": 13,
   "id": "8a545a26",
   "metadata": {},
   "outputs": [
    {
     "data": {
      "text/plain": [
       "{'random forest classifier': RandomForestClassifier(criterion='entropy', n_estimators=10, warm_start=True),\n",
       " 'multinomial nb': MultinomialNB(alpha=1, fit_prior=False),\n",
       " 'complement nb': ComplementNB(alpha=1, norm=True),\n",
       " 'Bernoulli nb': BernoulliNB(alpha=1, fit_prior=False),\n",
       " 'gaussian nb': GaussianNB(var_smoothing=1e-05)}"
      ]
     },
     "execution_count": 13,
     "metadata": {},
     "output_type": "execute_result"
    }
   ],
   "source": [
    "# show best parameters for each estimator\n",
    "best_estimator"
   ]
  },
  {
   "cell_type": "code",
   "execution_count": 14,
   "id": "c789b68b",
   "metadata": {},
   "outputs": [],
   "source": [
    "# get the best models\n",
    "random_forest_model = best_estimator['random forest classifier']\n",
    "naive_bayes_model = best_estimator['complement nb']"
   ]
  },
  {
   "cell_type": "markdown",
   "id": "9938104d",
   "metadata": {},
   "source": [
    "## Model Evaluation"
   ]
  },
  {
   "cell_type": "markdown",
   "id": "8b4b8e82",
   "metadata": {},
   "source": [
    "#### Naive Bayes model evaluation"
   ]
  },
  {
   "cell_type": "code",
   "execution_count": 15,
   "id": "cbc7e65f",
   "metadata": {},
   "outputs": [],
   "source": [
    "# get naive bayes model prediction\n",
    "nb_predicted_label = naive_bayes_model.predict(test_features)"
   ]
  },
  {
   "cell_type": "code",
   "execution_count": 16,
   "id": "a9244abe",
   "metadata": {},
   "outputs": [
    {
     "name": "stdout",
     "output_type": "stream",
     "text": [
      "Naive Bayes model score on test data is 83.2%\n"
     ]
    }
   ],
   "source": [
    "# evaluate naive bayes model on the test set\n",
    "nb_score = accuracy_score(test_label, nb_predicted_label)\n",
    "print('Naive Bayes model score on test data is {:.1%}'.format(nb_score))"
   ]
  },
  {
   "cell_type": "code",
   "execution_count": 17,
   "id": "87b4f1b8",
   "metadata": {
    "scrolled": true
   },
   "outputs": [
    {
     "data": {
      "image/png": "[encoded data removed]",
      "text/plain": [
       "<Figure size 864x360 with 2 Axes>"
      ]
     },
     "metadata": {
      "needs_background": "light"
     },
     "output_type": "display_data"
    }
   ],
   "source": [
    "# confusion matrix of naive bayes model prediction\n",
    "cm = confusion_matrix(test_label, nb_predicted_label)\n",
    "plt.figure(figsize =(12,5))\n",
    "sns.heatmap(cm, annot=True, fmt='g')\n",
    "plt.ylabel('Truth Labels')\n",
    "plt.xlabel('predicted Labels')\n",
    "tick_marks = np.arange(len(classes))\n",
    "plt.xticks(tick_marks, classes)\n",
    "plt.yticks(tick_marks, classes)\n",
    "plt.show()"
   ]
  },
  {
   "cell_type": "markdown",
   "id": "309b7330",
   "metadata": {},
   "source": [
    "#### Random Forest model evaluation"
   ]
  },
  {
   "cell_type": "code",
   "execution_count": 18,
   "id": "0c0333b6",
   "metadata": {},
   "outputs": [
    {
     "name": "stdout",
     "output_type": "stream",
     "text": [
      "Classification Report for Naive bayes model \n",
      "               precision    recall  f1-score   support\n",
      "\n",
      "   fake news       0.76      0.64      0.70       101\n",
      "   real news       0.86      0.91      0.88       239\n",
      "\n",
      "    accuracy                           0.83       340\n",
      "   macro avg       0.81      0.78      0.79       340\n",
      "weighted avg       0.83      0.83      0.83       340\n",
      "\n"
     ]
    }
   ],
   "source": [
    "# display classification report for Naive bayes model\n",
    "nb_report = classification_report(test_label, nb_predicted_label, target_names = classes)\n",
    "print('Classification Report for Naive bayes model \\n', nb_report)"
   ]
  },
  {
   "cell_type": "code",
   "execution_count": 19,
   "id": "25d6c932",
   "metadata": {},
   "outputs": [],
   "source": [
    "# get Random forest model predictions\n",
    "rf_predicted_label = random_forest_model.predict(test_features)"
   ]
  },
  {
   "cell_type": "code",
   "execution_count": 20,
   "id": "69ed6dc4",
   "metadata": {
    "scrolled": true
   },
   "outputs": [
    {
     "name": "stdout",
     "output_type": "stream",
     "text": [
      "Random Forest model score on test data is 92.9%\n"
     ]
    }
   ],
   "source": [
    "# evaluate Random forest model on the test set\n",
    "rf_score = accuracy_score(test_label, rf_predicted_label)\n",
    "print('Random Forest model score on test data is {:.1%}'.format(rf_score))"
   ]
  },
  {
   "cell_type": "code",
   "execution_count": 21,
   "id": "5c1b82d9",
   "metadata": {
    "scrolled": true
   },
   "outputs": [
    {
     "data": {
      "image/png": "[encoded data removed]",
      "text/plain": [
       "<Figure size 864x360 with 2 Axes>"
      ]
     },
     "metadata": {
      "needs_background": "light"
     },
     "output_type": "display_data"
    }
   ],
   "source": [
    "# display confusion matrix for Random Forest Model\n",
    "cm = confusion_matrix(test_label, rf_predicted_label)\n",
    "plt.figure(figsize =(12,5))\n",
    "sns.heatmap(cm, annot=True, fmt='g')\n",
    "plt.ylabel('Truth Labels')\n",
    "plt.xlabel('predicted Labels')\n",
    "tick_marks = np.arange(len(classes))\n",
    "plt.xticks(tick_marks, classes)\n",
    "plt.yticks(tick_marks, classes)\n",
    "plt.show()"
   ]
  },
  {
   "cell_type": "code",
   "execution_count": 22,
   "id": "2e152e9d",
   "metadata": {
    "scrolled": false
   },
   "outputs": [
    {
     "name": "stdout",
     "output_type": "stream",
     "text": [
      "Classification Report for Random forest model \n",
      "               precision    recall  f1-score   support\n",
      "\n",
      "   fake news       0.76      0.64      0.70       101\n",
      "   real news       0.86      0.91      0.88       239\n",
      "\n",
      "    accuracy                           0.83       340\n",
      "   macro avg       0.81      0.78      0.79       340\n",
      "weighted avg       0.83      0.83      0.83       340\n",
      "\n"
     ]
    }
   ],
   "source": [
    "# display classification report for Random forest model\n",
    "rf_report = classification_report(test_label, nb_predicted_label, target_names = classes)\n",
    "print('Classification Report for Random forest model \\n', rf_report)"
   ]
  },
  {
   "cell_type": "markdown",
   "id": "e0611811",
   "metadata": {},
   "source": [
    "## Comparism between Naive Bayes and Random Forest Model"
   ]
  },
  {
   "cell_type": "code",
   "execution_count": 23,
   "id": "950579e1",
   "metadata": {},
   "outputs": [],
   "source": [
    "# get classification report dict\n",
    "nb_report = classification_report(test_label, nb_predicted_label, target_names = classes, output_dict=True)\n",
    "rf_report = classification_report(test_label, rf_predicted_label, target_names = classes, output_dict=True)"
   ]
  },
  {
   "cell_type": "code",
   "execution_count": 24,
   "id": "95aa17d6",
   "metadata": {
    "scrolled": false
   },
   "outputs": [
    {
     "data": {
      "text/html": [
       "<div>\n",
       "<style scoped>\n",
       "    .dataframe tbody tr th:only-of-type {\n",
       "        vertical-align: middle;\n",
       "    }\n",
       "\n",
       "    .dataframe tbody tr th {\n",
       "        vertical-align: top;\n",
       "    }\n",
       "\n",
       "    .dataframe thead th {\n",
       "        text-align: right;\n",
       "    }\n",
       "</style>\n",
       "<table border=\"1\" class=\"dataframe\">\n",
       "  <thead>\n",
       "    <tr style=\"text-align: right;\">\n",
       "      <th></th>\n",
       "      <th>Naive Bayes</th>\n",
       "      <th>Random Forest</th>\n",
       "    </tr>\n",
       "  </thead>\n",
       "  <tbody>\n",
       "    <tr>\n",
       "      <th>Precision</th>\n",
       "      <td>0.755814</td>\n",
       "      <td>0.846847</td>\n",
       "    </tr>\n",
       "    <tr>\n",
       "      <th>Recall</th>\n",
       "      <td>0.643564</td>\n",
       "      <td>0.930693</td>\n",
       "    </tr>\n",
       "    <tr>\n",
       "      <th>F1 Score</th>\n",
       "      <td>0.695187</td>\n",
       "      <td>0.886792</td>\n",
       "    </tr>\n",
       "  </tbody>\n",
       "</table>\n",
       "</div>"
      ],
      "text/plain": [
       "           Naive Bayes  Random Forest\n",
       "Precision     0.755814       0.846847\n",
       "Recall        0.643564       0.930693\n",
       "F1 Score      0.695187       0.886792"
      ]
     },
     "execution_count": 24,
     "metadata": {},
     "output_type": "execute_result"
    }
   ],
   "source": [
    "# load performance on fake news into dataframe\n",
    "performance_on_fake = pd.DataFrame({'Naive Bayes': list(nb_report['fake news'].values())[:-1],\n",
    "                                       \n",
    "                                      'Random Forest':list(rf_report['fake news'].values())[:-1]},\n",
    "                                      index=['Precision', 'Recall', 'F1 Score'])\n",
    "performance_on_fake"
   ]
  },
  {
   "cell_type": "code",
   "execution_count": 25,
   "id": "ba661b10",
   "metadata": {
    "scrolled": true
   },
   "outputs": [
    {
     "data": {
      "image/png": "[encoded data removed]",
      "text/plain": [
       "<Figure size 432x288 with 1 Axes>"
      ]
     },
     "metadata": {
      "needs_background": "light"
     },
     "output_type": "display_data"
    }
   ],
   "source": [
    "# plot model performance comparism on fake news\n",
    "plt.plot(performance_on_fake)\n",
    "plt.show()"
   ]
  },
  {
   "cell_type": "code",
   "execution_count": 26,
   "id": "bedfda70",
   "metadata": {
    "scrolled": true
   },
   "outputs": [
    {
     "data": {
      "text/html": [
       "<div>\n",
       "<style scoped>\n",
       "    .dataframe tbody tr th:only-of-type {\n",
       "        vertical-align: middle;\n",
       "    }\n",
       "\n",
       "    .dataframe tbody tr th {\n",
       "        vertical-align: top;\n",
       "    }\n",
       "\n",
       "    .dataframe thead th {\n",
       "        text-align: right;\n",
       "    }\n",
       "</style>\n",
       "<table border=\"1\" class=\"dataframe\">\n",
       "  <thead>\n",
       "    <tr style=\"text-align: right;\">\n",
       "      <th></th>\n",
       "      <th>Naive Bayes</th>\n",
       "      <th>Random Forest</th>\n",
       "    </tr>\n",
       "  </thead>\n",
       "  <tbody>\n",
       "    <tr>\n",
       "      <th>Precision</th>\n",
       "      <td>0.858268</td>\n",
       "      <td>0.969432</td>\n",
       "    </tr>\n",
       "    <tr>\n",
       "      <th>Recall</th>\n",
       "      <td>0.912134</td>\n",
       "      <td>0.928870</td>\n",
       "    </tr>\n",
       "    <tr>\n",
       "      <th>F1 Score</th>\n",
       "      <td>0.884381</td>\n",
       "      <td>0.948718</td>\n",
       "    </tr>\n",
       "  </tbody>\n",
       "</table>\n",
       "</div>"
      ],
      "text/plain": [
       "           Naive Bayes  Random Forest\n",
       "Precision     0.858268       0.969432\n",
       "Recall        0.912134       0.928870\n",
       "F1 Score      0.884381       0.948718"
      ]
     },
     "execution_count": 26,
     "metadata": {},
     "output_type": "execute_result"
    }
   ],
   "source": [
    "# load model performance on real news to dataframe\n",
    "performance_on_real = pd.DataFrame({'Naive Bayes': list(nb_report['real news'].values())[:-1],\n",
    "                                       \n",
    "                                      'Random Forest':list(rf_report['real news'].values())[:-1]},\n",
    "                                      index=['Precision', 'Recall', 'F1 Score'])\n",
    "performance_on_real"
   ]
  },
  {
   "cell_type": "code",
   "execution_count": 27,
   "id": "298dc360",
   "metadata": {},
   "outputs": [
    {
     "data": {
      "image/png": "[encoded data removed]",
      "text/plain": [
       "<Figure size 432x288 with 1 Axes>"
      ]
     },
     "metadata": {
      "needs_background": "light"
     },
     "output_type": "display_data"
    }
   ],
   "source": [
    "# plot model performance comparism on real news\n",
    "plt.plot(performance_on_real)\n",
    "plt.show()"
   ]
  },
  {
   "cell_type": "code",
   "execution_count": 28,
   "id": "73d52979",
   "metadata": {
    "scrolled": true
   },
   "outputs": [
    {
     "data": {
      "text/html": [
       "<div>\n",
       "<style scoped>\n",
       "    .dataframe tbody tr th:only-of-type {\n",
       "        vertical-align: middle;\n",
       "    }\n",
       "\n",
       "    .dataframe tbody tr th {\n",
       "        vertical-align: top;\n",
       "    }\n",
       "\n",
       "    .dataframe thead th {\n",
       "        text-align: right;\n",
       "    }\n",
       "</style>\n",
       "<table border=\"1\" class=\"dataframe\">\n",
       "  <thead>\n",
       "    <tr style=\"text-align: right;\">\n",
       "      <th></th>\n",
       "      <th>Naive Bayes</th>\n",
       "      <th>Random Forest</th>\n",
       "    </tr>\n",
       "  </thead>\n",
       "  <tbody>\n",
       "    <tr>\n",
       "      <th>Precision</th>\n",
       "      <td>0.827833</td>\n",
       "      <td>0.933017</td>\n",
       "    </tr>\n",
       "    <tr>\n",
       "      <th>Recall</th>\n",
       "      <td>0.832353</td>\n",
       "      <td>0.929412</td>\n",
       "    </tr>\n",
       "    <tr>\n",
       "      <th>F1 Score</th>\n",
       "      <td>0.828180</td>\n",
       "      <td>0.930322</td>\n",
       "    </tr>\n",
       "    <tr>\n",
       "      <th>Accuracy</th>\n",
       "      <td>0.832353</td>\n",
       "      <td>0.929412</td>\n",
       "    </tr>\n",
       "  </tbody>\n",
       "</table>\n",
       "</div>"
      ],
      "text/plain": [
       "           Naive Bayes  Random Forest\n",
       "Precision     0.827833       0.933017\n",
       "Recall        0.832353       0.929412\n",
       "F1 Score      0.828180       0.930322\n",
       "Accuracy      0.832353       0.929412"
      ]
     },
     "execution_count": 28,
     "metadata": {},
     "output_type": "execute_result"
    }
   ],
   "source": [
    "# Load average model performance into dataframe\n",
    "average_performance = pd.DataFrame({'Naive Bayes': list(nb_report['weighted avg'].values())[:-1] + [nb_report['accuracy']],\n",
    "                                       \n",
    "                                      'Random Forest':list(rf_report['weighted avg'].values())[:-1] + [rf_report['accuracy']]},\n",
    "                                      index=['Precision', 'Recall', 'F1 Score', 'Accuracy'])\n",
    "average_performance"
   ]
  },
  {
   "cell_type": "code",
   "execution_count": 29,
   "id": "ff63452d",
   "metadata": {},
   "outputs": [
    {
     "data": {
      "image/png": "[encoded data removed]",
      "text/plain": [
       "<Figure size 432x288 with 1 Axes>"
      ]
     },
     "metadata": {
      "needs_background": "light"
     },
     "output_type": "display_data"
    }
   ],
   "source": [
    "# plot average model performance\n",
    "plt.plot(average_performance)\n",
    "plt.show()"
   ]
  }
 ],
 "metadata": {
  "kernelspec": {
   "display_name": "Python 3 (ipykernel)",
   "language": "python",
   "name": "python3"
  },
  "language_info": {
   "codemirror_mode": {
    "name": "ipython",
    "version": 3
   },
   "file_extension": ".py",
   "mimetype": "text/x-python",
   "name": "python",
   "nbconvert_exporter": "python",
   "pygments_lexer": "ipython3",
   "version": "3.9.7"
  }
 },
 "nbformat": 4,
 "nbformat_minor": 5
}
