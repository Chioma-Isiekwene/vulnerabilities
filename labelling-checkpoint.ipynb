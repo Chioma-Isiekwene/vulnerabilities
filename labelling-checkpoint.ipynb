{
 "cells": [
  {
   "cell_type": "code",
   "execution_count": 1,
   "id": "d2eeab9a",
   "metadata": {},
   "outputs": [],
   "source": [
    "import numpy as np\n",
    "import pandas as pd"
   ]
  },
  {
   "cell_type": "code",
   "execution_count": 2,
   "id": "754c1dbd",
   "metadata": {
    "scrolled": false
   },
   "outputs": [
    {
     "data": {
      "text/html": [
       "<div>\n",
       "<style scoped>\n",
       "    .dataframe tbody tr th:only-of-type {\n",
       "        vertical-align: middle;\n",
       "    }\n",
       "\n",
       "    .dataframe tbody tr th {\n",
       "        vertical-align: top;\n",
       "    }\n",
       "\n",
       "    .dataframe thead th {\n",
       "        text-align: right;\n",
       "    }\n",
       "</style>\n",
       "<table border=\"1\" class=\"dataframe\">\n",
       "  <thead>\n",
       "    <tr style=\"text-align: right;\">\n",
       "      <th></th>\n",
       "      <th>username</th>\n",
       "      <th>tweet</th>\n",
       "    </tr>\n",
       "  </thead>\n",
       "  <tbody>\n",
       "    <tr>\n",
       "      <th>0</th>\n",
       "      <td>AlukoJoseph5</td>\n",
       "      <td>taking life long time sack strong proof activi...</td>\n",
       "    </tr>\n",
       "    <tr>\n",
       "      <th>1</th>\n",
       "      <td>omofuma_Elijah</td>\n",
       "      <td>even desmond elliot quite womans name look lik...</td>\n",
       "    </tr>\n",
       "    <tr>\n",
       "      <th>2</th>\n",
       "      <td>FelixOdohoedi</td>\n",
       "      <td>cbn freeze account cbn quick freeze account pp...</td>\n",
       "    </tr>\n",
       "    <tr>\n",
       "      <th>3</th>\n",
       "      <td>adekzee1</td>\n",
       "      <td>okay good one esn well coordinated work se sta...</td>\n",
       "    </tr>\n",
       "    <tr>\n",
       "      <th>4</th>\n",
       "      <td>AOkuntade</td>\n",
       "      <td>allow policemen victims injustice public appea...</td>\n",
       "    </tr>\n",
       "  </tbody>\n",
       "</table>\n",
       "</div>"
      ],
      "text/plain": [
       "         username                                              tweet\n",
       "0    AlukoJoseph5  taking life long time sack strong proof activi...\n",
       "1  omofuma_Elijah  even desmond elliot quite womans name look lik...\n",
       "2   FelixOdohoedi  cbn freeze account cbn quick freeze account pp...\n",
       "3        adekzee1  okay good one esn well coordinated work se sta...\n",
       "4       AOkuntade  allow policemen victims injustice public appea..."
      ]
     },
     "execution_count": 2,
     "metadata": {},
     "output_type": "execute_result"
    }
   ],
   "source": [
    "df = pd.read_csv('cleaned_data.csv')\n",
    "df.head()"
   ]
  },
  {
   "cell_type": "code",
   "execution_count": 3,
   "id": "e8086656",
   "metadata": {
    "scrolled": false
   },
   "outputs": [
    {
     "data": {
      "text/plain": [
       "3396"
      ]
     },
     "execution_count": 3,
     "metadata": {},
     "output_type": "execute_result"
    }
   ],
   "source": [
    "len(df)"
   ]
  },
  {
   "cell_type": "code",
   "execution_count": 4,
   "id": "da0779f1",
   "metadata": {
    "scrolled": true
   },
   "outputs": [],
   "source": [
    "from sklearn.feature_extraction.text import TfidfVectorizer\n",
    "from sklearn.cluster import KMeans"
   ]
  },
  {
   "cell_type": "code",
   "execution_count": 6,
   "id": "956fc065",
   "metadata": {
    "scrolled": true
   },
   "outputs": [],
   "source": [
    "tweets = df['tweet'].values.astype('U')"
   ]
  },
  {
   "cell_type": "code",
   "execution_count": 9,
   "id": "fba2f252",
   "metadata": {},
   "outputs": [],
   "source": [
    "vectorizer = TfidfVectorizer(stop_words='english')\n",
    "features = vectorizer.fit_transform(tweets)"
   ]
  },
  {
   "cell_type": "code",
   "execution_count": 175,
   "id": "c509e124",
   "metadata": {},
   "outputs": [
    {
     "data": {
      "text/plain": [
       "KMeans(max_iter=100, n_clusters=2, n_init=1)"
      ]
     },
     "execution_count": 175,
     "metadata": {},
     "output_type": "execute_result"
    }
   ],
   "source": [
    "# k = 2\n",
    "# model = KMeans(n_clusters = k, init= 'k-means++', max_iter=100, n_init=1)\n",
    "# model.fit(features)"
   ]
  },
  {
   "cell_type": "code",
   "execution_count": 12,
   "id": "d4bec0cc",
   "metadata": {},
   "outputs": [
    {
     "ename": "NameError",
     "evalue": "name 'models' is not defined",
     "output_type": "error",
     "traceback": [
      "\u001b[1;31m---------------------------------------------------------------------------\u001b[0m",
      "\u001b[1;31mNameError\u001b[0m                                 Traceback (most recent call last)",
      "\u001b[1;32m~\\AppData\\Local\\Temp/ipykernel_13204/1610422294.py\u001b[0m in \u001b[0;36m<module>\u001b[1;34m\u001b[0m\n\u001b[1;32m----> 1\u001b[1;33m \u001b[0mdf\u001b[0m\u001b[1;33m[\u001b[0m\u001b[1;34m'label'\u001b[0m\u001b[1;33m]\u001b[0m \u001b[1;33m=\u001b[0m \u001b[0mmodels\u001b[0m\u001b[1;33m.\u001b[0m\u001b[0mlabels_\u001b[0m\u001b[1;33m\u001b[0m\u001b[1;33m\u001b[0m\u001b[0m\n\u001b[0m",
      "\u001b[1;31mNameError\u001b[0m: name 'models' is not defined"
     ]
    }
   ],
   "source": [
    "df['label'] = models.labels"
   ]
  },
  {
   "cell_type": "code",
   "execution_count": 199,
   "id": "8c19473e",
   "metadata": {
    "scrolled": true
   },
   "outputs": [
    {
     "data": {
      "text/html": [
       "<div>\n",
       "<style scoped>\n",
       "    .dataframe tbody tr th:only-of-type {\n",
       "        vertical-align: middle;\n",
       "    }\n",
       "\n",
       "    .dataframe tbody tr th {\n",
       "        vertical-align: top;\n",
       "    }\n",
       "\n",
       "    .dataframe thead th {\n",
       "        text-align: right;\n",
       "    }\n",
       "</style>\n",
       "<table border=\"1\" class=\"dataframe\">\n",
       "  <thead>\n",
       "    <tr style=\"text-align: right;\">\n",
       "      <th></th>\n",
       "      <th>username</th>\n",
       "      <th>tweet</th>\n",
       "      <th>label</th>\n",
       "    </tr>\n",
       "  </thead>\n",
       "  <tbody>\n",
       "    <tr>\n",
       "      <th>2704</th>\n",
       "      <td>Luvcheat</td>\n",
       "      <td>leave talk today way dey hear kind thing ke ht...</td>\n",
       "      <td>0</td>\n",
       "    </tr>\n",
       "    <tr>\n",
       "      <th>3180</th>\n",
       "      <td>AOK_BAWAL</td>\n",
       "      <td>hate see people loose livelihood hope dont hop...</td>\n",
       "      <td>0</td>\n",
       "    </tr>\n",
       "    <tr>\n",
       "      <th>2383</th>\n",
       "      <td>Zieojy</td>\n",
       "      <td>u said nigeria youths jobless rudderless maybe...</td>\n",
       "      <td>0</td>\n",
       "    </tr>\n",
       "    <tr>\n",
       "      <th>1393</th>\n",
       "      <td>sheyiihamedd</td>\n",
       "      <td>e go better entire generation shall know peace...</td>\n",
       "      <td>0</td>\n",
       "    </tr>\n",
       "    <tr>\n",
       "      <th>1799</th>\n",
       "      <td>FAkpotohwo</td>\n",
       "      <td>greatest error say mistake nigerian government...</td>\n",
       "      <td>0</td>\n",
       "    </tr>\n",
       "  </tbody>\n",
       "</table>\n",
       "</div>"
      ],
      "text/plain": [
       "          username                                              tweet  label\n",
       "2704      Luvcheat  leave talk today way dey hear kind thing ke ht...      0\n",
       "3180     AOK_BAWAL  hate see people loose livelihood hope dont hop...      0\n",
       "2383        Zieojy  u said nigeria youths jobless rudderless maybe...      0\n",
       "1393  sheyiihamedd  e go better entire generation shall know peace...      0\n",
       "1799    FAkpotohwo  greatest error say mistake nigerian government...      0"
      ]
     },
     "execution_count": 199,
     "metadata": {},
     "output_type": "execute_result"
    }
   ],
   "source": [
    "df.head()"
   ]
  },
  {
   "cell_type": "code",
   "execution_count": 209,
   "id": "4300d234",
   "metadata": {
    "scrolled": true
   },
   "outputs": [
    {
     "data": {
      "text/plain": [
       "0    2384\n",
       "1    1012\n",
       "Name: label, dtype: int64"
      ]
     },
     "execution_count": 209,
     "metadata": {},
     "output_type": "execute_result"
    }
   ],
   "source": [
    "df['label'].value_counts()"
   ]
  },
  {
   "cell_type": "code",
   "execution_count": 201,
   "id": "fccbc63b",
   "metadata": {
    "scrolled": true
   },
   "outputs": [
    {
     "data": {
      "text/html": [
       "<div>\n",
       "<style scoped>\n",
       "    .dataframe tbody tr th:only-of-type {\n",
       "        vertical-align: middle;\n",
       "    }\n",
       "\n",
       "    .dataframe tbody tr th {\n",
       "        vertical-align: top;\n",
       "    }\n",
       "\n",
       "    .dataframe thead th {\n",
       "        text-align: right;\n",
       "    }\n",
       "</style>\n",
       "<table border=\"1\" class=\"dataframe\">\n",
       "  <thead>\n",
       "    <tr style=\"text-align: right;\">\n",
       "      <th></th>\n",
       "      <th>username</th>\n",
       "      <th>tweet</th>\n",
       "      <th>label</th>\n",
       "    </tr>\n",
       "  </thead>\n",
       "  <tbody>\n",
       "    <tr>\n",
       "      <th>895</th>\n",
       "      <td>SundayT14449927</td>\n",
       "      <td>boy bring back staff watin youth gain protest ...</td>\n",
       "      <td>1</td>\n",
       "    </tr>\n",
       "    <tr>\n",
       "      <th>287</th>\n",
       "      <td>Eutopialove</td>\n",
       "      <td>without soldiers policemen soldiers part poor ...</td>\n",
       "      <td>1</td>\n",
       "    </tr>\n",
       "    <tr>\n",
       "      <th>1218</th>\n",
       "      <td>NnamdiFadason</td>\n",
       "      <td>dear nicola bring notice happened protesters l...</td>\n",
       "      <td>1</td>\n",
       "    </tr>\n",
       "    <tr>\n",
       "      <th>2790</th>\n",
       "      <td>gbadebo_dahunsi</td>\n",
       "      <td>im glad youths truly awake may never sleep slu...</td>\n",
       "      <td>1</td>\n",
       "    </tr>\n",
       "    <tr>\n",
       "      <th>677</th>\n",
       "      <td>OladipupoAZ</td>\n",
       "      <td>even though cannot forget soon due lost lifes ...</td>\n",
       "      <td>1</td>\n",
       "    </tr>\n",
       "    <tr>\n",
       "      <th>...</th>\n",
       "      <td>...</td>\n",
       "      <td>...</td>\n",
       "      <td>...</td>\n",
       "    </tr>\n",
       "    <tr>\n",
       "      <th>2210</th>\n",
       "      <td>_PreyOx</td>\n",
       "      <td>time around must oo cos dem nuh soro soke e go...</td>\n",
       "      <td>1</td>\n",
       "    </tr>\n",
       "    <tr>\n",
       "      <th>542</th>\n",
       "      <td>SJ_valama</td>\n",
       "      <td>fear britain pissing interfere cameroons affai...</td>\n",
       "      <td>1</td>\n",
       "    </tr>\n",
       "    <tr>\n",
       "      <th>1454</th>\n",
       "      <td>JamesBassil4</td>\n",
       "      <td>nigerian army killing unharmed citizens lagos ...</td>\n",
       "      <td>1</td>\n",
       "    </tr>\n",
       "    <tr>\n",
       "      <th>672</th>\n",
       "      <td>Ennison_Esq02</td>\n",
       "      <td>bottled coke safer plastic bottled coke argue ...</td>\n",
       "      <td>1</td>\n",
       "    </tr>\n",
       "    <tr>\n",
       "      <th>2151</th>\n",
       "      <td>Bellowasiu2</td>\n",
       "      <td>please tell wife children stuck lekki traffic ...</td>\n",
       "      <td>1</td>\n",
       "    </tr>\n",
       "  </tbody>\n",
       "</table>\n",
       "<p>1012 rows × 3 columns</p>\n",
       "</div>"
      ],
      "text/plain": [
       "             username                                              tweet  \\\n",
       "895   SundayT14449927  boy bring back staff watin youth gain protest ...   \n",
       "287       Eutopialove  without soldiers policemen soldiers part poor ...   \n",
       "1218    NnamdiFadason  dear nicola bring notice happened protesters l...   \n",
       "2790  gbadebo_dahunsi  im glad youths truly awake may never sleep slu...   \n",
       "677       OladipupoAZ  even though cannot forget soon due lost lifes ...   \n",
       "...               ...                                                ...   \n",
       "2210          _PreyOx  time around must oo cos dem nuh soro soke e go...   \n",
       "542         SJ_valama  fear britain pissing interfere cameroons affai...   \n",
       "1454     JamesBassil4  nigerian army killing unharmed citizens lagos ...   \n",
       "672     Ennison_Esq02  bottled coke safer plastic bottled coke argue ...   \n",
       "2151      Bellowasiu2  please tell wife children stuck lekki traffic ...   \n",
       "\n",
       "      label  \n",
       "895       1  \n",
       "287       1  \n",
       "1218      1  \n",
       "2790      1  \n",
       "677       1  \n",
       "...     ...  \n",
       "2210      1  \n",
       "542       1  \n",
       "1454      1  \n",
       "672       1  \n",
       "2151      1  \n",
       "\n",
       "[1012 rows x 3 columns]"
      ]
     },
     "execution_count": 201,
     "metadata": {},
     "output_type": "execute_result"
    }
   ],
   "source": [
    "df[df['label']== 1]"
   ]
  },
  {
   "cell_type": "code",
   "execution_count": 202,
   "id": "79a813d3",
   "metadata": {
    "scrolled": true
   },
   "outputs": [
    {
     "data": {
      "text/html": [
       "<div>\n",
       "<style scoped>\n",
       "    .dataframe tbody tr th:only-of-type {\n",
       "        vertical-align: middle;\n",
       "    }\n",
       "\n",
       "    .dataframe tbody tr th {\n",
       "        vertical-align: top;\n",
       "    }\n",
       "\n",
       "    .dataframe thead th {\n",
       "        text-align: right;\n",
       "    }\n",
       "</style>\n",
       "<table border=\"1\" class=\"dataframe\">\n",
       "  <thead>\n",
       "    <tr style=\"text-align: right;\">\n",
       "      <th></th>\n",
       "      <th>username</th>\n",
       "      <th>tweet</th>\n",
       "      <th>label</th>\n",
       "    </tr>\n",
       "  </thead>\n",
       "  <tbody>\n",
       "    <tr>\n",
       "      <th>2704</th>\n",
       "      <td>Luvcheat</td>\n",
       "      <td>leave talk today way dey hear kind thing ke ht...</td>\n",
       "      <td>0</td>\n",
       "    </tr>\n",
       "    <tr>\n",
       "      <th>3180</th>\n",
       "      <td>AOK_BAWAL</td>\n",
       "      <td>hate see people loose livelihood hope dont hop...</td>\n",
       "      <td>0</td>\n",
       "    </tr>\n",
       "    <tr>\n",
       "      <th>2383</th>\n",
       "      <td>Zieojy</td>\n",
       "      <td>u said nigeria youths jobless rudderless maybe...</td>\n",
       "      <td>0</td>\n",
       "    </tr>\n",
       "    <tr>\n",
       "      <th>1393</th>\n",
       "      <td>sheyiihamedd</td>\n",
       "      <td>e go better entire generation shall know peace...</td>\n",
       "      <td>0</td>\n",
       "    </tr>\n",
       "    <tr>\n",
       "      <th>1799</th>\n",
       "      <td>FAkpotohwo</td>\n",
       "      <td>greatest error say mistake nigerian government...</td>\n",
       "      <td>0</td>\n",
       "    </tr>\n",
       "    <tr>\n",
       "      <th>...</th>\n",
       "      <td>...</td>\n",
       "      <td>...</td>\n",
       "      <td>...</td>\n",
       "    </tr>\n",
       "    <tr>\n",
       "      <th>11</th>\n",
       "      <td>beylag</td>\n",
       "      <td>know soon choke hatered buhari totally lost se...</td>\n",
       "      <td>0</td>\n",
       "    </tr>\n",
       "    <tr>\n",
       "      <th>109</th>\n",
       "      <td>HarryOkoh</td>\n",
       "      <td>brother ears lawlessness guarantees well anoth...</td>\n",
       "      <td>0</td>\n",
       "    </tr>\n",
       "    <tr>\n",
       "      <th>2145</th>\n",
       "      <td>Okwydominic</td>\n",
       "      <td>man supritendent sars ukuzu anambra morderd 25...</td>\n",
       "      <td>0</td>\n",
       "    </tr>\n",
       "    <tr>\n",
       "      <th>1759</th>\n",
       "      <td>RamatuArome</td>\n",
       "      <td>whats court today judge couldnt make due road ...</td>\n",
       "      <td>0</td>\n",
       "    </tr>\n",
       "    <tr>\n",
       "      <th>1329</th>\n",
       "      <td>SambrightJr</td>\n",
       "      <td>government mess wrong generation told na go st...</td>\n",
       "      <td>0</td>\n",
       "    </tr>\n",
       "  </tbody>\n",
       "</table>\n",
       "<p>2384 rows × 3 columns</p>\n",
       "</div>"
      ],
      "text/plain": [
       "          username                                              tweet  label\n",
       "2704      Luvcheat  leave talk today way dey hear kind thing ke ht...      0\n",
       "3180     AOK_BAWAL  hate see people loose livelihood hope dont hop...      0\n",
       "2383        Zieojy  u said nigeria youths jobless rudderless maybe...      0\n",
       "1393  sheyiihamedd  e go better entire generation shall know peace...      0\n",
       "1799    FAkpotohwo  greatest error say mistake nigerian government...      0\n",
       "...            ...                                                ...    ...\n",
       "11          beylag  know soon choke hatered buhari totally lost se...      0\n",
       "109      HarryOkoh  brother ears lawlessness guarantees well anoth...      0\n",
       "2145   Okwydominic  man supritendent sars ukuzu anambra morderd 25...      0\n",
       "1759   RamatuArome  whats court today judge couldnt make due road ...      0\n",
       "1329   SambrightJr  government mess wrong generation told na go st...      0\n",
       "\n",
       "[2384 rows x 3 columns]"
      ]
     },
     "execution_count": 202,
     "metadata": {},
     "output_type": "execute_result"
    }
   ],
   "source": [
    "df[df['label']== 0]"
   ]
  },
  {
   "cell_type": "code",
   "execution_count": 210,
   "id": "2afb3801",
   "metadata": {},
   "outputs": [],
   "source": [
    "df['label'] = df['label'].apply(lambda x: 'real news' if x == 0 else 'fake news')"
   ]
  },
  {
   "cell_type": "code",
   "execution_count": 211,
   "id": "9065ac35",
   "metadata": {
    "scrolled": false
   },
   "outputs": [
    {
     "data": {
      "text/html": [
       "<div>\n",
       "<style scoped>\n",
       "    .dataframe tbody tr th:only-of-type {\n",
       "        vertical-align: middle;\n",
       "    }\n",
       "\n",
       "    .dataframe tbody tr th {\n",
       "        vertical-align: top;\n",
       "    }\n",
       "\n",
       "    .dataframe thead th {\n",
       "        text-align: right;\n",
       "    }\n",
       "</style>\n",
       "<table border=\"1\" class=\"dataframe\">\n",
       "  <thead>\n",
       "    <tr style=\"text-align: right;\">\n",
       "      <th></th>\n",
       "      <th>username</th>\n",
       "      <th>tweet</th>\n",
       "      <th>label</th>\n",
       "    </tr>\n",
       "  </thead>\n",
       "  <tbody>\n",
       "    <tr>\n",
       "      <th>0</th>\n",
       "      <td>AlukoJoseph5</td>\n",
       "      <td>taking life long time sack strong proof activi...</td>\n",
       "      <td>real news</td>\n",
       "    </tr>\n",
       "    <tr>\n",
       "      <th>1</th>\n",
       "      <td>omofuma_Elijah</td>\n",
       "      <td>even desmond elliot quite womans name look lik...</td>\n",
       "      <td>real news</td>\n",
       "    </tr>\n",
       "    <tr>\n",
       "      <th>2</th>\n",
       "      <td>FelixOdohoedi</td>\n",
       "      <td>cbn freeze account cbn quick freeze account pp...</td>\n",
       "      <td>real news</td>\n",
       "    </tr>\n",
       "    <tr>\n",
       "      <th>3</th>\n",
       "      <td>adekzee1</td>\n",
       "      <td>okay good one esn well coordinated work se sta...</td>\n",
       "      <td>real news</td>\n",
       "    </tr>\n",
       "    <tr>\n",
       "      <th>4</th>\n",
       "      <td>AOkuntade</td>\n",
       "      <td>allow policemen victims injustice public appea...</td>\n",
       "      <td>real news</td>\n",
       "    </tr>\n",
       "  </tbody>\n",
       "</table>\n",
       "</div>"
      ],
      "text/plain": [
       "         username                                              tweet  \\\n",
       "0    AlukoJoseph5  taking life long time sack strong proof activi...   \n",
       "1  omofuma_Elijah  even desmond elliot quite womans name look lik...   \n",
       "2   FelixOdohoedi  cbn freeze account cbn quick freeze account pp...   \n",
       "3        adekzee1  okay good one esn well coordinated work se sta...   \n",
       "4       AOkuntade  allow policemen victims injustice public appea...   \n",
       "\n",
       "       label  \n",
       "0  real news  \n",
       "1  real news  \n",
       "2  real news  \n",
       "3  real news  \n",
       "4  real news  "
      ]
     },
     "execution_count": 211,
     "metadata": {},
     "output_type": "execute_result"
    }
   ],
   "source": [
    "df.head()"
   ]
  },
  {
   "cell_type": "code",
   "execution_count": 215,
   "id": "6b4c1ce5",
   "metadata": {},
   "outputs": [
    {
     "data": {
      "text/html": [
       "<div>\n",
       "<style scoped>\n",
       "    .dataframe tbody tr th:only-of-type {\n",
       "        vertical-align: middle;\n",
       "    }\n",
       "\n",
       "    .dataframe tbody tr th {\n",
       "        vertical-align: top;\n",
       "    }\n",
       "\n",
       "    .dataframe thead th {\n",
       "        text-align: right;\n",
       "    }\n",
       "</style>\n",
       "<table border=\"1\" class=\"dataframe\">\n",
       "  <thead>\n",
       "    <tr style=\"text-align: right;\">\n",
       "      <th></th>\n",
       "      <th>username</th>\n",
       "      <th>tweet</th>\n",
       "      <th>label</th>\n",
       "    </tr>\n",
       "  </thead>\n",
       "  <tbody>\n",
       "    <tr>\n",
       "      <th>2261</th>\n",
       "      <td>yeinkharr</td>\n",
       "      <td>nothing wise say please keep quiet stop disgra...</td>\n",
       "      <td>fake news</td>\n",
       "    </tr>\n",
       "    <tr>\n",
       "      <th>2481</th>\n",
       "      <td>TPadez</td>\n",
       "      <td>heard igp dissolved unit president address sta...</td>\n",
       "      <td>real news</td>\n",
       "    </tr>\n",
       "    <tr>\n",
       "      <th>3296</th>\n",
       "      <td>DasheRobni</td>\n",
       "      <td>planting evidence understand trends mile even...</td>\n",
       "      <td>real news</td>\n",
       "    </tr>\n",
       "    <tr>\n",
       "      <th>492</th>\n",
       "      <td>ElephantofA</td>\n",
       "      <td>peaceful protest evil calling end police bruta...</td>\n",
       "      <td>fake news</td>\n",
       "    </tr>\n",
       "    <tr>\n",
       "      <th>517</th>\n",
       "      <td>Sanizo4</td>\n",
       "      <td>nigeria ranked 3rd terrorised country worldwid...</td>\n",
       "      <td>real news</td>\n",
       "    </tr>\n",
       "  </tbody>\n",
       "</table>\n",
       "</div>"
      ],
      "text/plain": [
       "         username                                              tweet  \\\n",
       "2261    yeinkharr  nothing wise say please keep quiet stop disgra...   \n",
       "2481       TPadez  heard igp dissolved unit president address sta...   \n",
       "3296   DasheRobni   planting evidence understand trends mile even...   \n",
       "492   ElephantofA  peaceful protest evil calling end police bruta...   \n",
       "517       Sanizo4  nigeria ranked 3rd terrorised country worldwid...   \n",
       "\n",
       "          label  \n",
       "2261  fake news  \n",
       "2481  real news  \n",
       "3296  real news  \n",
       "492   fake news  \n",
       "517   real news  "
      ]
     },
     "execution_count": 215,
     "metadata": {},
     "output_type": "execute_result"
    }
   ],
   "source": [
    "df = df.sample(frac=1)\n",
    "df.head()"
   ]
  },
  {
   "cell_type": "code",
   "execution_count": 216,
   "id": "7b569871",
   "metadata": {},
   "outputs": [],
   "source": [
    "# df.to_csv('data.csv', index=False)"
   ]
  }
 ],
 "metadata": {
  "kernelspec": {
   "display_name": "Python 3 (ipykernel)",
   "language": "python",
   "name": "python3"
  },
  "language_info": {
   "codemirror_mode": {
    "name": "ipython",
    "version": 3
   },
   "file_extension": ".py",
   "mimetype": "text/x-python",
   "name": "python",
   "nbconvert_exporter": "python",
   "pygments_lexer": "ipython3",
   "version": "3.9.7"
  }
 },
 "nbformat": 4,
 "nbformat_minor": 5
}
